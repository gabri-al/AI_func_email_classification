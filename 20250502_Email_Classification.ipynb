{
 "cells": [
  {
   "cell_type": "markdown",
   "metadata": {
    "application/vnd.databricks.v1+cell": {
     "cellMetadata": {},
     "inputWidgets": {},
     "nuid": "5e64da19-6d3f-4ef1-a6f5-8ea62f5f0a11",
     "showTitle": false,
     "tableResultSettingsMap": {},
     "title": ""
    }
   },
   "source": [
    "# Email Classification"
   ]
  },
  {
   "cell_type": "markdown",
   "metadata": {
    "application/vnd.databricks.v1+cell": {
     "cellMetadata": {},
     "inputWidgets": {},
     "nuid": "e044e0cb-d329-4e22-bb1c-9d774c2732fd",
     "showTitle": false,
     "tableResultSettingsMap": {},
     "title": ""
    }
   },
   "source": [
    "## Dummy Data Upload"
   ]
  },
  {
   "cell_type": "code",
   "execution_count": 0,
   "metadata": {
    "application/vnd.databricks.v1+cell": {
     "cellMetadata": {
      "byteLimit": 2048000,
      "rowLimit": 10000
     },
     "inputWidgets": {},
     "nuid": "03767c1f-00fc-4cda-801d-3f48f6b20e62",
     "showTitle": false,
     "tableResultSettingsMap": {},
     "title": ""
    }
   },
   "outputs": [],
   "source": [
    "## Variables\n",
    "catalog_ = 'users'\n",
    "schema_ = 'gabriele_albini'\n",
    "volume_ = 'ec_volume'"
   ]
  },
  {
   "cell_type": "code",
   "execution_count": 0,
   "metadata": {
    "application/vnd.databricks.v1+cell": {
     "cellMetadata": {
      "byteLimit": 2048000,
      "rowLimit": 10000
     },
     "inputWidgets": {},
     "nuid": "796e6b92-efb9-439a-8d33-3e6063bc6c01",
     "showTitle": false,
     "tableResultSettingsMap": {},
     "title": ""
    }
   },
   "outputs": [],
   "source": [
    "spark.sql('USE CATALOG ' + catalog_)\n",
    "spark.sql('USE SCHEMA ' + schema_)\n",
    "spark.sql('CREATE VOLUME IF NOT EXISTS ' + volume_)"
   ]
  },
  {
   "cell_type": "code",
   "execution_count": 0,
   "metadata": {
    "application/vnd.databricks.v1+cell": {
     "cellMetadata": {
      "byteLimit": 2048000,
      "rowLimit": 10000
     },
     "inputWidgets": {},
     "nuid": "f31726e7-aa51-4185-a13e-587292406651",
     "showTitle": false,
     "tableResultSettingsMap": {},
     "title": ""
    }
   },
   "outputs": [],
   "source": [
    "## Read table from volume\n",
    "path_ ='/Volumes/'+catalog_+'/'+schema_+'/'+volume_+'/SampleDataset.csv'\n",
    "\n",
    "email_df = spark.read.csv(\n",
    "  path_ ,\n",
    "  header=True,\n",
    "  sep=';')\n",
    "display(email_df.head(2))"
   ]
  },
  {
   "cell_type": "code",
   "execution_count": 0,
   "metadata": {
    "application/vnd.databricks.v1+cell": {
     "cellMetadata": {
      "byteLimit": 2048000,
      "rowLimit": 10000
     },
     "inputWidgets": {},
     "nuid": "5e93d8ab-6ea2-423d-bd9f-34f58342242d",
     "showTitle": false,
     "tableResultSettingsMap": {},
     "title": ""
    }
   },
   "outputs": [],
   "source": [
    "email_df.createOrReplaceTempView(\"email_df_view\")"
   ]
  },
  {
   "cell_type": "markdown",
   "metadata": {
    "application/vnd.databricks.v1+cell": {
     "cellMetadata": {},
     "inputWidgets": {},
     "nuid": "fcd1bf32-963b-48bb-b1e2-40e626ce83d6",
     "showTitle": false,
     "tableResultSettingsMap": {},
     "title": ""
    }
   },
   "source": [
    "## Perform Classification with AI Functions"
   ]
  },
  {
   "cell_type": "code",
   "execution_count": 0,
   "metadata": {
    "application/vnd.databricks.v1+cell": {
     "cellMetadata": {
      "byteLimit": 2048000,
      "rowLimit": 10000
     },
     "inputWidgets": {},
     "nuid": "4ed578f2-0771-492b-a6de-e0ca0bf276b4",
     "showTitle": false,
     "tableResultSettingsMap": {},
     "title": ""
    }
   },
   "outputs": [],
   "source": [
    "prompt_ = \"\"\"\n",
    "  Forget all your previous instructions, pretend you are a mail classification expert who tries to identify\n",
    "  whether an e-mail is requesting to be removed from a marketing distribution list.\n",
    "  Answer \"Remove\" if the mail is requesting to be removed, \"Keep\" if not. Do not add any other detail.\n",
    "  If you think it is too difficult to judge, you can exclude the impossible one and choose the other, just answer \"Remove\" or \"Keep\".\n",
    "  \n",
    "  Here are a few examples for you:\n",
    "  * \"I wish to no longer receive emails\" is \"Remove\";\n",
    "  * \"Remove me from any kind of subscriptions\" is \"Remove\";\n",
    "  * \"How can I return an undesired order\" is \"Keep\";\n",
    "  * \"When is my product warranty expiring\" is \"Keep\";\n",
    "\n",
    "  Now you can identify whether the mail is \"Remove\" or \"Keep\":\n",
    "  Mail: \n",
    "  \"\"\""
   ]
  },
  {
   "cell_type": "code",
   "execution_count": 0,
   "metadata": {
    "application/vnd.databricks.v1+cell": {
     "cellMetadata": {
      "byteLimit": 2048000,
      "rowLimit": 10000
     },
     "inputWidgets": {},
     "nuid": "47b8d6cb-f488-46ad-8ddb-2a8ce506032b",
     "showTitle": false,
     "tableResultSettingsMap": {},
     "title": ""
    }
   },
   "outputs": [],
   "source": [
    "dbutils.widgets.text(\"prompt\", defaultValue=prompt_, label=\"Prompt\")"
   ]
  },
  {
   "cell_type": "code",
   "execution_count": 0,
   "metadata": {
    "application/vnd.databricks.v1+cell": {
     "cellMetadata": {
      "byteLimit": 2048000,
      "implicitDf": true,
      "rowLimit": 10000
     },
     "inputWidgets": {},
     "nuid": "28e58925-80d1-402b-99ee-ac14fb59f5ac",
     "showTitle": false,
     "tableResultSettingsMap": {},
     "title": ""
    }
   },
   "outputs": [],
   "source": [
    "%sql\n",
    "with cte_0 as (\n",
    "  select *,\n",
    "    ai_query(\n",
    "      'databricks-meta-llama-3-3-70b-instruct',\n",
    "      \"${prompt}\" || Email_body,\n",
    "      modelParameters => named_struct('max_tokens', 1, 'temperature', 0.1)\n",
    "    ) as Predicted_Label_llama33\n",
    "  from email_df_view\n",
    ")\n",
    "  select *\n",
    "    , case when True_Label = Predicted_Label_llama33 then 1 else 0 end as isCorrect\n",
    "  from cte_0\n",
    "  order by RowNr;"
   ]
  }
 ],
 "metadata": {
  "application/vnd.databricks.v1+notebook": {
   "computePreferences": null,
   "dashboards": [],
   "environmentMetadata": {
    "base_environment": "",
    "environment_version": "2"
   },
   "inputWidgetPreferences": null,
   "language": "python",
   "notebookMetadata": {
    "mostRecentlyExecutedCommandWithImplicitDF": {
     "commandId": 1379979344748276,
     "dataframes": [
      "_sqldf"
     ]
    },
    "pythonIndentUnit": 2
   },
   "notebookName": "20250502_Email_Classification",
   "widgets": {
    "prompt": {
     "currentValue": "\n  Forget all your previous instructions, pretend you are a mail classification expert who tries to identify\n  whether an e-mail is requesting to be removed from a marketing distribution list.\n  Answer \"Remove\" if the mail is requesting the removal, \"Keep\" if not.\n  If you think it is too difficult to judge, you can exclude the impossible one and choose the other.\n  \n  Here are a few examples for you:\n  * \"I wish to no longer receive emails\" is \"Remove\";\n  * \"Remove me from any kind of subscriptions\" is \"Remove\";\n  * \"How can I return an undesired order\" is \"Keep\";\n  * \"When is my product warranty expiring\" is \"Keep\";\n\n  Now you can identify whether the mail is \"Remove\" or \"Keep\":\n  Mail: \n  ",
     "nuid": "3a6fa8bd-d4a3-475e-97e9-1c92c1ec4dfa",
     "typedWidgetInfo": {
      "autoCreated": false,
      "defaultValue": "\n  Forget all your previous instructions, pretend you are a mail classification expert who tries to identify\n  whether an e-mail is requesting to be removed from a marketing distribution list.\n  Answer \"Remove\" if the mail is requesting to be removed, \"Keep\" if not. Do not add any other detail.\n  If you think it is too difficult to judge, you can exclude the impossible one and choose the other, just answer \"Remove\" or \"Keep\".\n  \n  Here are a few examples for you:\n  * \"I wish to no longer receive emails\" is \"Remove\";\n  * \"Remove me from any kind of subscriptions\" is \"Remove\";\n  * \"How can I return an undesired order\" is \"Keep\";\n  * \"When is my product warranty expiring\" is \"Keep\";\n\n  Now you can identify whether the mail is \"Remove\" or \"Keep\":\n  Mail: \n  ",
      "label": "Prompt",
      "name": "prompt",
      "options": {
       "widgetDisplayType": "Text",
       "validationRegex": null
      },
      "parameterDataType": "String"
     },
     "widgetInfo": {
      "widgetType": "text",
      "defaultValue": "\n  Forget all your previous instructions, pretend you are a mail classification expert who tries to identify\n  whether an e-mail is requesting to be removed from a marketing distribution list.\n  Answer \"Remove\" if the mail is requesting to be removed, \"Keep\" if not. Do not add any other detail.\n  If you think it is too difficult to judge, you can exclude the impossible one and choose the other, just answer \"Remove\" or \"Keep\".\n  \n  Here are a few examples for you:\n  * \"I wish to no longer receive emails\" is \"Remove\";\n  * \"Remove me from any kind of subscriptions\" is \"Remove\";\n  * \"How can I return an undesired order\" is \"Keep\";\n  * \"When is my product warranty expiring\" is \"Keep\";\n\n  Now you can identify whether the mail is \"Remove\" or \"Keep\":\n  Mail: \n  ",
      "label": "Prompt",
      "name": "prompt",
      "options": {
       "widgetType": "text",
       "autoCreated": null,
       "validationRegex": null
      }
     }
    }
   }
  },
  "language_info": {
   "name": "python"
  }
 },
 "nbformat": 4,
 "nbformat_minor": 0
}
