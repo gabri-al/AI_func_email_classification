{
 "cells": [
  {
   "cell_type": "markdown",
   "metadata": {
    "application/vnd.databricks.v1+cell": {
     "cellMetadata": {},
     "inputWidgets": {},
     "nuid": "8b70b34f-6e56-4b8b-8a86-f0f01e1e9b88",
     "showTitle": false,
     "tableResultSettingsMap": {},
     "title": ""
    }
   },
   "source": [
    "# Example of how to connect from Python to a Gmail Account\n",
    "\n",
    "Connect to a test gmail account in order to read email data.\n",
    "\n",
    "Different guide found [here](https://www.directedignorance.com/blog/gmail-with-python) (with Perplexity [example](https://www.perplexity.ai/search/on-databricks-how-can-i-create-ZLspdEp0Slm5Xoh4yZsOTA#0))"
   ]
  },
  {
   "cell_type": "markdown",
   "metadata": {
    "application/vnd.databricks.v1+cell": {
     "cellMetadata": {},
     "inputWidgets": {},
     "nuid": "18ad43dd-87aa-41c6-af73-bee73f7194cf",
     "showTitle": false,
     "tableResultSettingsMap": {},
     "title": ""
    }
   },
   "source": [
    "## Gmail authentication (won't work on serverless)"
   ]
  },
  {
   "cell_type": "code",
   "execution_count": 0,
   "metadata": {
    "application/vnd.databricks.v1+cell": {
     "cellMetadata": {
      "byteLimit": 2048000,
      "rowLimit": 10000
     },
     "inputWidgets": {},
     "nuid": "312df245-cf33-48d0-b250-49bd58e3677e",
     "showTitle": false,
     "tableResultSettingsMap": {},
     "title": ""
    }
   },
   "outputs": [],
   "source": [
    "!pip install --upgrade google-api-python-client google-auth-httplib2 google-auth-oauthlib"
   ]
  },
  {
   "cell_type": "code",
   "execution_count": 0,
   "metadata": {
    "application/vnd.databricks.v1+cell": {
     "cellMetadata": {
      "byteLimit": 2048000,
      "rowLimit": 10000
     },
     "inputWidgets": {},
     "nuid": "81262147-376f-4bb0-b3e4-405be40e46c7",
     "showTitle": false,
     "tableResultSettingsMap": {},
     "title": ""
    }
   },
   "outputs": [],
   "source": [
    "from google.oauth2.credentials import Credentials\n",
    "from google_auth_oauthlib.flow import InstalledAppFlow, Flow\n",
    "from google.auth.transport.requests import Request\n",
    "import json\n",
    "import os\n",
    "import email.utils\n",
    "from datetime import datetime, timezone, timedelta\n",
    "import base64\n",
    "from googleapiclient.discovery import build"
   ]
  },
  {
   "cell_type": "code",
   "execution_count": 0,
   "metadata": {
    "application/vnd.databricks.v1+cell": {
     "cellMetadata": {
      "byteLimit": 2048000,
      "rowLimit": 10000
     },
     "inputWidgets": {},
     "nuid": "e4269879-0016-4375-b8e5-bd8d868d5e42",
     "showTitle": false,
     "tableResultSettingsMap": {},
     "title": ""
    }
   },
   "outputs": [],
   "source": [
    "catalog_ = 'users'\n",
    "schema_ = 'gabriele_albini'\n",
    "volume_ = 'ec_volume'\n",
    "spark.sql('USE CATALOG ' + catalog_)\n",
    "spark.sql('USE SCHEMA ' + schema_)\n",
    "spark.sql('CREATE VOLUME IF NOT EXISTS ' + volume_)\n",
    "\n",
    "CREDENTIALS_PATH = \"/Volumes/\"+catalog_+'/'+schema_+'/'+volume_+\"/credentials_ga_webapp.json\"\n",
    "SCOPES = ['https://www.googleapis.com/auth/gmail.readonly']\n",
    "TMP_TOKEN_FILE = \"/Volumes/\"+catalog_+'/'+schema_+'/'+volume_+\"/ga_tmp_token.json\""
   ]
  },
  {
   "cell_type": "code",
   "execution_count": 0,
   "metadata": {
    "application/vnd.databricks.v1+cell": {
     "cellMetadata": {
      "byteLimit": 2048000,
      "rowLimit": 10000
     },
     "inputWidgets": {},
     "nuid": "96d04304-e114-4f2e-9638-a59157d04de5",
     "showTitle": false,
     "tableResultSettingsMap": {},
     "title": ""
    }
   },
   "outputs": [],
   "source": [
    "# Read from credentials file and return as JSON\n",
    "def load_credentials(path_ = CREDENTIALS_PATH):\n",
    "    with open(path_, 'r') as f:\n",
    "        return json.load(f)\n",
    "\n",
    "# Authenticate to Google Manually\n",
    "def gmail_authenticate_manual(CREDENTIALS_PATH, TMP_TOKEN_FILE):\n",
    "  existing_creds_ = False\n",
    "\n",
    "  # Try to retrieve credentials from token file\n",
    "  try:\n",
    "    creds = Credentials.from_authorized_user_file(TMP_TOKEN_FILE, SCOPES)\n",
    "    if creds and not creds.expired:\n",
    "      existing_creds_ = True\n",
    "      print(\":: Reading credentials from token file\")\n",
    "  except:\n",
    "    pass\n",
    "\n",
    "  if not existing_creds_:\n",
    "    #Load credentials from Google Json file\n",
    "    print(\":: Re-generating credentials\")\n",
    "    credentials_ = load_credentials()\n",
    "\n",
    "    #Manual OAuth flow\n",
    "    flow = Flow.from_client_config(credentials_, scopes=SCOPES)\n",
    "    flow.redirect_uri = 'http://localhost:8080/'  # Must match your OAuth client redirect URI\n",
    "    auth_url, _ = flow.authorization_url(prompt='consent')\n",
    "\n",
    "    print(\"Go to this URL in your browser; after signing in, the URL will fail, however extract the &code= from the generated URL:\\n\")\n",
    "    print(auth_url)\n",
    "\n",
    "    code = input(\"---> URL code: \")\n",
    "    flow.fetch_token(code=code)\n",
    "\n",
    "    #Generate credentials\n",
    "    creds = flow.credentials\n",
    "\n",
    "    # Save credentials to token file\n",
    "    os.makedirs(os.path.dirname(TMP_TOKEN_FILE), exist_ok=True)\n",
    "    with open(TMP_TOKEN_FILE, 'w') as token:\n",
    "      token.write(creds.to_json())\n",
    "  \n",
    "  return creds"
   ]
  },
  {
   "cell_type": "code",
   "execution_count": 0,
   "metadata": {
    "application/vnd.databricks.v1+cell": {
     "cellMetadata": {
      "byteLimit": 2048000,
      "rowLimit": 10000
     },
     "inputWidgets": {},
     "nuid": "ee57daa8-d9b7-4628-b021-669264a496b6",
     "showTitle": false,
     "tableResultSettingsMap": {},
     "title": ""
    }
   },
   "outputs": [],
   "source": [
    "access_ = gmail_authenticate_manual(CREDENTIALS_PATH, TMP_TOKEN_FILE)"
   ]
  },
  {
   "cell_type": "markdown",
   "metadata": {
    "application/vnd.databricks.v1+cell": {
     "cellMetadata": {},
     "inputWidgets": {},
     "nuid": "3b6769e4-8486-4edb-a24c-425df90c80d1",
     "showTitle": false,
     "tableResultSettingsMap": {},
     "title": ""
    }
   },
   "source": [
    "## Fetch data from Gmail"
   ]
  },
  {
   "cell_type": "code",
   "execution_count": 0,
   "metadata": {
    "application/vnd.databricks.v1+cell": {
     "cellMetadata": {
      "byteLimit": 2048000,
      "rowLimit": 10000
     },
     "inputWidgets": {},
     "nuid": "f30ec0bc-088d-4834-91dc-dd9b75eabf93",
     "showTitle": false,
     "tableResultSettingsMap": {},
     "title": ""
    }
   },
   "outputs": [],
   "source": [
    "def get_email_messages_since(service, since_datetime, max_results=100):\n",
    "    # Convert datetime to Unix timestamp in seconds\n",
    "    since_ts = int(since_datetime.timestamp())\n",
    "    query = f\"after:{since_ts}\"\n",
    "\n",
    "    emails = []\n",
    "    response = service.users().messages().list(userId='me', q=query, maxResults=max_results).execute()\n",
    "\n",
    "    messages = response.get('messages', [])"
   ]
  },
  {
   "cell_type": "code",
   "execution_count": 0,
   "metadata": {
    "application/vnd.databricks.v1+cell": {
     "cellMetadata": {
      "byteLimit": 2048000,
      "rowLimit": 10000
     },
     "inputWidgets": {},
     "nuid": "f0c1f019-fb02-47a0-9e76-d5bc750284cc",
     "showTitle": false,
     "tableResultSettingsMap": {},
     "title": ""
    }
   },
   "outputs": [],
   "source": [
    "# Read Emails\n",
    "def get_email_messages_since(service, since_day, since_month, since_year = 2025, max_results=100):\n",
    "    # Convert datetime to Unix timestamp in seconds\n",
    "    since_datetime = datetime(since_year, since_month, since_day, 0, 0, 0, tzinfo=timezone(timedelta(hours=2)))\n",
    "    since_ts = int(since_datetime.timestamp())\n",
    "    query = f\"after:{since_ts}\"\n",
    "    response = service.users().messages().list(userId='me', q=query, maxResults=max_results).execute()\n",
    "    messages = response.get('messages', [])\n",
    "    emails = []\n",
    "\n",
    "    def extract_email_address(from_header):\n",
    "    # Parse the email address from the From header 'John Doe <john.doe@example.com>' -> 'john.doe@example.com'\n",
    "      parsed = email.utils.parseaddr(from_header)\n",
    "      return parsed[1]  # parsed is (name, email)\n",
    "\n",
    "    def get_body(parts):\n",
    "        for part in parts:\n",
    "            if part['mimeType'] == 'text/plain' and 'data' in part['body']:\n",
    "                data = part['body']['data']\n",
    "                return base64.urlsafe_b64decode(data).decode('utf-8')\n",
    "            elif part['mimeType'].startswith('multipart'):\n",
    "                return get_body(part.get('parts', []))\n",
    "        return None\n",
    "\n",
    "    for msg in messages:\n",
    "        msg_data = service.users().messages().get(userId='me', id=msg['id'], format='full').execute()\n",
    "        payload = msg_data['payload']\n",
    "        headers = payload.get('headers', [])\n",
    "\n",
    "        email_data = {'received_timestamp': None, 'from': None, 'subject': None, 'body': None}\n",
    "\n",
    "        # Extract headers\n",
    "        for header in headers:\n",
    "            if header['name'] == 'From':\n",
    "                email_data['from'] = extract_email_address(header['value'])\n",
    "            elif header['name'] == 'Subject':\n",
    "                email_data['subject'] = header['value']\n",
    "            elif header['name'] == 'Date':\n",
    "                # Parse date string to datetime object\n",
    "                try:\n",
    "                    parsed_date = email.utils.parsedate_to_datetime(header['value'])\n",
    "                    email_data['received_timestamp'] = parsed_date.isoformat()\n",
    "                except Exception:\n",
    "                    email_data['received_timestamp'] = None\n",
    "\n",
    "        # Extract body (handle multipart or plain)\n",
    "        if 'parts' in payload:\n",
    "            body = get_body(payload['parts'])\n",
    "        else:\n",
    "            body_data = payload.get('body', {}).get('data')\n",
    "            body = base64.urlsafe_b64decode(body_data).decode('utf-8') if body_data else None\n",
    "\n",
    "        email_data['body'] = body\n",
    "        emails.append(email_data)\n",
    "\n",
    "    return emails"
   ]
  },
  {
   "cell_type": "code",
   "execution_count": 0,
   "metadata": {
    "application/vnd.databricks.v1+cell": {
     "cellMetadata": {
      "byteLimit": 2048000,
      "rowLimit": 10000
     },
     "inputWidgets": {},
     "nuid": "a89f7e40-ee47-4a37-881e-604cc4e631da",
     "showTitle": false,
     "tableResultSettingsMap": {},
     "title": ""
    }
   },
   "outputs": [],
   "source": [
    "# From above access, Build Gmail API service\n",
    "service_ = build('gmail', 'v1', credentials=access_)\n",
    "emails = get_email_messages_since(service_, since_day=25, since_month=3, since_year = 2025)\n",
    "\n",
    "if emails:\n",
    "  spark_emails = spark.createDataFrame(emails)\n",
    "  display(spark_emails)\n",
    "else:\n",
    "  spark_emails = None\n",
    "  print(\"No emails found.\")"
   ]
  }
 ],
 "metadata": {
  "application/vnd.databricks.v1+notebook": {
   "computePreferences": null,
   "dashboards": [],
   "environmentMetadata": {
    "base_environment": "",
    "environment_version": "2"
   },
   "inputWidgetPreferences": null,
   "language": "python",
   "notebookMetadata": {
    "pythonIndentUnit": 2
   },
   "notebookName": "20250428_Gmail_Access_example_v2",
   "widgets": {}
  },
  "language_info": {
   "name": "python"
  }
 },
 "nbformat": 4,
 "nbformat_minor": 0
}
